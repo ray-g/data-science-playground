{
 "cells": [
  {
   "cell_type": "markdown",
   "metadata": {},
   "source": [
    "# Python 基本语法"
   ]
  },
  {
   "cell_type": "markdown",
   "metadata": {},
   "source": [
    "这里的Python是Python3, 更加具体的话是 3.5.2"
   ]
  },
  {
   "cell_type": "markdown",
   "metadata": {},
   "source": [
    "## Python版本"
   ]
  },
  {
   "cell_type": "markdown",
   "metadata": {},
   "source": [
    "版本可以通过命令 `python --version` 来查看，也可以在运行时通过以下代码查看Python版本"
   ]
  },
  {
   "cell_type": "code",
   "execution_count": 1,
   "metadata": {},
   "outputs": [
    {
     "name": "stdout",
     "output_type": "stream",
     "text": [
      "3.5.2 (default, Nov 23 2017, 16:37:01) \n",
      "[GCC 5.4.0 20160609]\n"
     ]
    }
   ],
   "source": [
    "# Check Python version\n",
    "\n",
    "import sys\n",
    "print(sys.version)"
   ]
  },
  {
   "cell_type": "markdown",
   "metadata": {},
   "source": [
    "## Python 标识符"
   ]
  },
  {
   "cell_type": "markdown",
   "metadata": {},
   "source": [
    "Python中，一切都是对象，包括整数，字符串，类的实例等都是对象，这些对象都是通过引用来使用的。标识符也就是给这些对象引用起的名字。\n",
    "\n",
    "在Python3中，标识符有以下规则：\n",
    "\n",
    "* 第一个字符必须是字母或者下划线\n",
    "* 其它字符可以是字母、数字以及下划线\n",
    "* 不能与关键字同名\n",
    "* 大小写敏感\n",
    "* 长度不限\n",
    "\n",
    "*注:* Python3中，非ASCII码也可以用在标识符中\n",
    "\n",
    "#### 约定\n",
    "\n",
    "Python中的标识符有以下约定成俗的规则：\n",
    "\n",
    "* 不要使用Python内置（built-in）的标识符\n",
    "* 以`_`开头的为Private方法\n",
    "* 以`__`开头且结尾的，一般作为Python的魔法方法，俗称`dunder`(double under)方法，比如__len__()作为执行len()时的实际被执行的方法。"
   ]
  },
  {
   "cell_type": "markdown",
   "metadata": {},
   "source": [
    "## Python 关键字"
   ]
  },
  {
   "cell_type": "markdown",
   "metadata": {},
   "source": [
    "Python标准库的`keyword`模块可以输出当前版本的所有关键字："
   ]
  },
  {
   "cell_type": "code",
   "execution_count": 2,
   "metadata": {},
   "outputs": [
    {
     "name": "stdout",
     "output_type": "stream",
     "text": [
      "['False', 'None', 'True', 'and', 'as', 'assert', 'break', 'class', 'continue', 'def', 'del', 'elif', 'else', 'except', 'finally', 'for', 'from', 'global', 'if', 'import', 'in', 'is', 'lambda', 'nonlocal', 'not', 'or', 'pass', 'raise', 'return', 'try', 'while', 'with', 'yield']\n"
     ]
    }
   ],
   "source": [
    "import keyword\n",
    "print(keyword.kwlist)"
   ]
  },
  {
   "cell_type": "markdown",
   "metadata": {},
   "source": [
    "而`builtins`则包含有所有的预定义标识符："
   ]
  },
  {
   "cell_type": "code",
   "execution_count": 3,
   "metadata": {},
   "outputs": [
    {
     "name": "stdout",
     "output_type": "stream",
     "text": [
      "['ArithmeticError', 'AssertionError', 'AttributeError', 'BaseException', 'BlockingIOError', 'BrokenPipeError', 'BufferError', 'BytesWarning', 'ChildProcessError', 'ConnectionAbortedError', 'ConnectionError', 'ConnectionRefusedError', 'ConnectionResetError', 'DeprecationWarning', 'EOFError', 'Ellipsis', 'EnvironmentError', 'Exception', 'False', 'FileExistsError', 'FileNotFoundError', 'FloatingPointError', 'FutureWarning', 'GeneratorExit', 'IOError', 'ImportError', 'ImportWarning', 'IndentationError', 'IndexError', 'InterruptedError', 'IsADirectoryError', 'KeyError', 'KeyboardInterrupt', 'LookupError', 'MemoryError', 'NameError', 'None', 'NotADirectoryError', 'NotImplemented', 'NotImplementedError', 'OSError', 'OverflowError', 'PendingDeprecationWarning', 'PermissionError', 'ProcessLookupError', 'RecursionError', 'ReferenceError', 'ResourceWarning', 'RuntimeError', 'RuntimeWarning', 'StopAsyncIteration', 'StopIteration', 'SyntaxError', 'SyntaxWarning', 'SystemError', 'SystemExit', 'TabError', 'TimeoutError', 'True', 'TypeError', 'UnboundLocalError', 'UnicodeDecodeError', 'UnicodeEncodeError', 'UnicodeError', 'UnicodeTranslateError', 'UnicodeWarning', 'UserWarning', 'ValueError', 'Warning', 'ZeroDivisionError', '__IPYTHON__', '__build_class__', '__debug__', '__doc__', '__import__', '__loader__', '__name__', '__package__', '__spec__', 'abs', 'all', 'any', 'ascii', 'bin', 'bool', 'bytearray', 'bytes', 'callable', 'chr', 'classmethod', 'compile', 'complex', 'copyright', 'credits', 'delattr', 'dict', 'dir', 'display', 'divmod', 'enumerate', 'eval', 'exec', 'filter', 'float', 'format', 'frozenset', 'get_ipython', 'getattr', 'globals', 'hasattr', 'hash', 'help', 'hex', 'id', 'input', 'int', 'isinstance', 'issubclass', 'iter', 'len', 'license', 'list', 'locals', 'map', 'max', 'memoryview', 'min', 'next', 'object', 'oct', 'open', 'ord', 'pow', 'print', 'property', 'range', 'repr', 'reversed', 'round', 'set', 'setattr', 'slice', 'sorted', 'staticmethod', 'str', 'sum', 'super', 'tuple', 'type', 'vars', 'zip']\n"
     ]
    }
   ],
   "source": [
    "import builtins\n",
    "print(dir(builtins))"
   ]
  },
  {
   "cell_type": "markdown",
   "metadata": {},
   "source": [
    "## 注释"
   ]
  },
  {
   "cell_type": "markdown",
   "metadata": {},
   "source": [
    "单行注释以`#`开始， 可以放在行首注释整行， 也可以放在中间注释该行剩下部分\n",
    "\n",
    "多行的注释可以使用`'''`或者`\"\"\"`， 也可以每行都写一个 `#`\n",
    "\n",
    "Python文件的开头可能会遇到以下内容\n",
    "\n",
    "```python\n",
    "#！/usr/bin/env python\n",
    "# -*- coding: utf-8 -*-\n",
    "```\n",
    "\n",
    "第一行叫做`SheBang`， `必须`放在文件的`第一行`才会生效，用来告诉类Unix系统，当前文件使用哪个程序来解释运行。 \n",
    "\n",
    "第二行是一个魔法注释， 告诉解释程序当前文件使用什么编码。\n",
    "\n",
    "*注：* 第一行之所以叫`SheBang`而不是什么`HeBang`，是因为此行注释必须以`#！`开头，`#`读做`Sharp`而`！`有时被简称为`Bang`，所以此名字应为`Sharp-Bang`，简称为`SheBang`。"
   ]
  },
  {
   "cell_type": "code",
   "execution_count": 4,
   "metadata": {},
   "outputs": [
    {
     "name": "stdout",
     "output_type": "stream",
     "text": [
      "Hello, 世界！\n"
     ]
    }
   ],
   "source": [
    "#!/usr/bin/env python\n",
    "# -*- coding: utf-8 -*-\n",
    "\n",
    "# 一行注释\n",
    "# 又一行注释\n",
    "\n",
    "'''\n",
    "我还是注释\n",
    "依然是注释\n",
    "'''\n",
    "\n",
    "\"\"\"\n",
    "注释飘过\n",
    "继续飘过\n",
    "\"\"\"\n",
    "\n",
    "print(\"Hello, 世界！\")"
   ]
  },
  {
   "cell_type": "markdown",
   "metadata": {},
   "source": [
    "## 代码块缩进"
   ]
  },
  {
   "cell_type": "markdown",
   "metadata": {},
   "source": [
    "Python的Zen是 `There should be one– and preferably only one –obvious way to do it.`\n",
    "\n",
    "在写Python的时候，代码块是通过缩进来表示的， 这点不像其他语言，都有表示代码块开始以及结束的标识符，比如众所周知的`{}`，或者Ruby中的`do...end`等等。\n",
    "\n",
    "Python要求同一个代码块必须使用相同的缩进空格数， 如果空格不一样，那么就会导致Runtime Error。 另外还需要注意， 大部分同学在敲代码的时候，喜欢使用`Tab`来缩进代码，在写Python的时候，`Tab`最好在编辑器中配置成与大家一致的空格，否则`Tab`与`Space`混合缩进的话，也很可能会引起错误，（比如，当大家都用4个空格缩进的时候，中间藏了一个Tab，当Tab配置为4个空格时没问题，但是一旦为其他配置，则会出错）。\n",
    "\n",
    "空的代码块必须使用`pass`，而不能什么都不写。"
   ]
  },
  {
   "cell_type": "code",
   "execution_count": 5,
   "metadata": {},
   "outputs": [
    {
     "name": "stdout",
     "output_type": "stream",
     "text": [
      "Hello True\n",
      "Another line\n",
      "Something\n"
     ]
    }
   ],
   "source": [
    "if True:\n",
    "    name = \"True\"\n",
    "    print(\"Hello\", name)\n",
    "    print(\"Another line\")\n",
    "else:\n",
    "    pass\n",
    "\n",
    "if True:\n",
    "    print(\"Something\")"
   ]
  },
  {
   "cell_type": "code",
   "execution_count": 6,
   "metadata": {},
   "outputs": [
    {
     "ename": "IndentationError",
     "evalue": "unindent does not match any outer indentation level (<tokenize>, line 10)",
     "output_type": "error",
     "traceback": [
      "\u001b[0;36m  File \u001b[0;32m\"<tokenize>\"\u001b[0;36m, line \u001b[0;32m10\u001b[0m\n\u001b[0;31m    print(\"Runtime occurs\")\u001b[0m\n\u001b[0m    ^\u001b[0m\n\u001b[0;31mIndentationError\u001b[0m\u001b[0;31m:\u001b[0m unindent does not match any outer indentation level\n"
     ]
    }
   ],
   "source": [
    "if True:\n",
    "    name = \"True\"\n",
    "    print(\"Hello\", name)\n",
    "    print(\"Another line\")\n",
    "else:\n",
    "    pass\n",
    "\n",
    "if True:\n",
    "    print(\"Something\")\n",
    "  print(\"Runtime occurs\")"
   ]
  },
  {
   "cell_type": "markdown",
   "metadata": {},
   "source": [
    "## import"
   ]
  },
  {
   "cell_type": "markdown",
   "metadata": {},
   "source": [
    "在Python中， 使用`import`或者`from...import...`来导入相应的模块或者函数\n",
    "\n",
    "1. 导入整个模块： `import somemodule`\n",
    "1. 导入模块并对其设置别名： `import somemodule as sm`\n",
    "1. 导入某个函数： `from somemodule import somefunction`\n",
    "1. 导入多个函数: `from somemodule import foo, bar, func`\n",
    "1. 导入模块中所有的函数: `from somemodule import *`\n",
    "\n",
    "一些约定的包的别名\n",
    "\n",
    "```python\n",
    "import numpy as np\n",
    "import pandas as pd\n",
    "import matplotlib.pyplot as plt\n",
    "import sklearn as sk\n",
    "```"
   ]
  },
  {
   "cell_type": "markdown",
   "metadata": {},
   "source": [
    "## 彩蛋 Zen of Python"
   ]
  },
  {
   "cell_type": "code",
   "execution_count": 7,
   "metadata": {},
   "outputs": [
    {
     "name": "stdout",
     "output_type": "stream",
     "text": [
      "The Zen of Python, by Tim Peters\n",
      "\n",
      "Beautiful is better than ugly.\n",
      "Explicit is better than implicit.\n",
      "Simple is better than complex.\n",
      "Complex is better than complicated.\n",
      "Flat is better than nested.\n",
      "Sparse is better than dense.\n",
      "Readability counts.\n",
      "Special cases aren't special enough to break the rules.\n",
      "Although practicality beats purity.\n",
      "Errors should never pass silently.\n",
      "Unless explicitly silenced.\n",
      "In the face of ambiguity, refuse the temptation to guess.\n",
      "There should be one-- and preferably only one --obvious way to do it.\n",
      "Although that way may not be obvious at first unless you're Dutch.\n",
      "Now is better than never.\n",
      "Although never is often better than *right* now.\n",
      "If the implementation is hard to explain, it's a bad idea.\n",
      "If the implementation is easy to explain, it may be a good idea.\n",
      "Namespaces are one honking great idea -- let's do more of those!\n"
     ]
    }
   ],
   "source": [
    "import this"
   ]
  }
 ],
 "metadata": {
  "kernelspec": {
   "display_name": "Python 3",
   "language": "python",
   "name": "python3"
  },
  "language_info": {
   "codemirror_mode": {
    "name": "ipython",
    "version": 3
   },
   "file_extension": ".py",
   "mimetype": "text/x-python",
   "name": "python",
   "nbconvert_exporter": "python",
   "pygments_lexer": "ipython3",
   "version": "3.5.2"
  }
 },
 "nbformat": 4,
 "nbformat_minor": 2
}
